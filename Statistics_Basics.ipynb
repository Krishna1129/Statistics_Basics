{
  "nbformat": 4,
  "nbformat_minor": 0,
  "metadata": {
    "colab": {
      "provenance": [],
      "collapsed_sections": [
        "69hySc2E7H8Q"
      ]
    },
    "kernelspec": {
      "name": "python3",
      "display_name": "Python 3"
    },
    "language_info": {
      "name": "python"
    }
  },
  "cells": [
    {
      "cell_type": "markdown",
      "source": [
        "#Statistics_Basics"
      ],
      "metadata": {
        "id": "CABNXfsMHrjv"
      }
    },
    {
      "cell_type": "markdown",
      "source": [
        "##Theoratical Questions"
      ],
      "metadata": {
        "id": "69hySc2E7H8Q"
      }
    },
    {
      "cell_type": "markdown",
      "source": [
        "1. What is statistics, and why is it important?\n",
        "  - Statistics is a way to collect, understand, and use numbers or data. It helps us to find patterns, make decisions, and solve problems using data. It is important because it helps us to learn from data in areas like business, science, and daily life."
      ],
      "metadata": {
        "id": "dDzIttXhHxkQ"
      }
    },
    {
      "cell_type": "markdown",
      "source": [
        "2. What are the two main types of statistics?\n",
        "   - There are two main types:\n",
        "\n",
        "    Descriptive statistics – It shows what the data looks like using numbers, tables, and graphs.\n",
        "\n",
        "    Inferential statistics – It helps us make guesses or predictions about a big group by using data from a small part."
      ],
      "metadata": {
        "id": "PR4_snh3HxnM"
      }
    },
    {
      "cell_type": "markdown",
      "source": [
        "3. What are descriptive statistics?\n",
        "   - Descriptive statistics means showing or summarizing data using things like mean (average), median (middle), mode (most common), or graphs. It does not make guesses—it only shows what the data says."
      ],
      "metadata": {
        "id": "MRwtO2PaHxqR"
      }
    },
    {
      "cell_type": "markdown",
      "source": [
        "4. What is inferential statistics?\n",
        "    - Inferential statistics helps us to make guesses or conclusions about a big group of people or things based on data from a small group. It uses tests and formulas to do this.\n",
        "\n"
      ],
      "metadata": {
        "id": "UZ2hjIJBHxtH"
      }
    },
    {
      "cell_type": "markdown",
      "source": [
        "5. What is sampling in statistics?\n",
        "   - Sampling is picking a small group from a big group so we can study or learn about the big group. This small group is called a sample.\n",
        "\n"
      ],
      "metadata": {
        "id": "P_WoyEcuHxwM"
      }
    },
    {
      "cell_type": "markdown",
      "source": [
        "6. What are the different types of sampling methods?\n",
        "    - There are a few common types:\n",
        "\n",
        "    Random sampling – Everyone has an equal chance to be picked.\n",
        "\n",
        "    Systematic sampling – Pick every 5th or 10th person from a list.\n",
        "\n",
        "    Stratified sampling – Divide the group into smaller parts, then pick from each part.\n",
        "\n",
        "    Cluster sampling – Divide into groups and then pick whole groups.\n",
        "\n"
      ],
      "metadata": {
        "id": "rDjzyqorHxzK"
      }
    },
    {
      "cell_type": "markdown",
      "source": [
        "7. What is the difference between random and non-random sampling?\n",
        "\n",
        "   - Random sampling means everyone has the same chance to be chosen. It is fair and gives better results.\n",
        "\n",
        "    Non-random sampling means some people have a higher chance of being picked than others. It may not show the full picture."
      ],
      "metadata": {
        "id": "_Uhsj44XHx3I"
      }
    },
    {
      "cell_type": "markdown",
      "source": [
        "8. Define and give examples of qualitative and quantitative data.\n",
        "\n",
        "    - Qualitative data is about names, colors, or types. Example: red, tall, small, happy.\n",
        "\n",
        "     Quantitative data is about numbers. Example: 5 apples, 20 students, 30°C.\n",
        "\n"
      ],
      "metadata": {
        "id": "NjifA8RFHx6I"
      }
    },
    {
      "cell_type": "markdown",
      "source": [
        "9. What are the different types of data in statistics?\n",
        "    - There are mainly two types:\n",
        "\n",
        "    Qualitative (or categorical) – Describes things, like color or type.\n",
        "\n",
        "    Quantitative (or numerical) – Shows numbers, like age or height.\n",
        "    Quantitative data can be further divided into:\n",
        "\n",
        "    Discrete data – Whole numbers (like 1, 2, 3).\n",
        "\n",
        "    Continuous data – Any number in a range (like 2.5, 3.14)."
      ],
      "metadata": {
        "id": "hOh3oX7BHx9W"
      }
    },
    {
      "cell_type": "markdown",
      "source": [
        "10. Explain nominal, ordinal, interval, and ratio levels of measurement.\n",
        "    - These are types of data levels:\n",
        "\n",
        "    Nominal – Only names or labels. Example: red, blue, green.\n",
        "\n",
        "    Ordinal – Ordered data, but we don’t know the exact gap. Example: small, medium, large.\n",
        "\n",
        "    Interval – Ordered with equal gaps, but no true zero. Example: temperature in °C.\n",
        "\n",
        "    Ratio – Ordered with equal gaps and a true zero. Example: height, weight, age."
      ],
      "metadata": {
        "id": "5E_MfMITHyAb"
      }
    },
    {
      "cell_type": "markdown",
      "source": [
        "11. What is the measure of central tendency?\n",
        "   - It is a way to show the middle or center value of data. It helps to understand the data better. The three main types are mean, median, and mode."
      ],
      "metadata": {
        "id": "oqsv-R_4HyDh"
      }
    },
    {
      "cell_type": "markdown",
      "source": [
        "12. Define mean, median, and mode.\n",
        "\n",
        "    - Mean is the average. Add all numbers and divide by how many there are.\n",
        "\n",
        "      Median is the middle number when data is in order.\n",
        "\n",
        "      Mode is the number that appears most often.\n",
        "\n"
      ],
      "metadata": {
        "id": "MfM1MHwAHyGf"
      }
    },
    {
      "cell_type": "markdown",
      "source": [
        "13. What is the significance of the measure of central tendency?\n",
        "    - The measure of central tendency (mean, median, mode) helps us to know what is normal or common in a group of numbers. It shows the center or average value of the data, which makes it easier to understand the data.\n",
        "\n"
      ],
      "metadata": {
        "id": "pz62MCO8HyJU"
      }
    },
    {
      "cell_type": "markdown",
      "source": [
        "14. What is variance, and how is it calculated?\n",
        "    -Variance shows how spread out the numbers are in a data set. It tells us if the numbers are close to the average or far away.\n",
        "    To calculate it:\n",
        "\n",
        "    Find the mean (average).\n",
        "\n",
        "    Subtract the mean from each number and square the result.\n",
        "\n",
        "    Add all squared results.\n",
        "\n",
        "    Divide by how many numbers there are (or one less if using a sample)."
      ],
      "metadata": {
        "id": "yqou8IRLHyMY"
      }
    },
    {
      "cell_type": "markdown",
      "source": [
        "15. What is standard deviation, and why is it important?\n",
        "    - Standard deviation also shows how spread out the numbers are. It is the square root of variance.\n",
        "    It is important because it tells us how much the data moves away from the average. A small standard deviation means data is close to the average. A big one means it is spread out."
      ],
      "metadata": {
        "id": "Z4MSWVlGHyPN"
      }
    },
    {
      "cell_type": "markdown",
      "source": [
        "16. Define and explain the term range in statistics.\n",
        "    - Range shows the difference between the biggest and smallest number in the data.\n",
        "    To find it: subtract the smallest number from the biggest number.\n",
        "    Example: In 2, 5, 9 — range = 9 - 2 = 7."
      ],
      "metadata": {
        "id": "2A0fNy4JHySJ"
      }
    },
    {
      "cell_type": "markdown",
      "source": [
        "17. What is the difference between variance and standard deviation?\n",
        "\n",
        "    - Variance shows the average of squared differences from the mean.\n",
        "\n",
        "    Standard deviation is the square root of variance.\n",
        "    So, both show how spread out the data is, but standard deviation is easier to understand because it uses the same units as the original data."
      ],
      "metadata": {
        "id": "6OY_W9r3HyUx"
      }
    },
    {
      "cell_type": "markdown",
      "source": [
        "18. What is skewness in a dataset?\n",
        "    - Skewness tells us if the data is balanced or not.\n",
        "\n",
        "    If the data has a long tail on the right side, it is positively skewed.\n",
        "\n",
        "    If the long tail is on the left, it is negatively skewed.\n",
        "\n",
        "    If both sides are equal, the data is symmetrical (no skew)."
      ],
      "metadata": {
        "id": "ftdz1E3kHyXu"
      }
    },
    {
      "cell_type": "markdown",
      "source": [
        "19. What does it mean if a dataset is positively or negatively skewed?\n",
        "\n",
        "    - Positively skewed means most values are small, but a few big values pull the average to the right. The tail is longer on the right.\n",
        "\n",
        "     Negatively skewed means most values are big, but a few small values pull the average to the left. The tail is longer on the left.\n",
        "\n"
      ],
      "metadata": {
        "id": "S3mYJLxf3tT3"
      }
    },
    {
      "cell_type": "markdown",
      "source": [
        "20. Define and explain kurtosis.\n",
        "    - Kurtosis shows how sharp or flat the peak of the data is.\n",
        "\n",
        "     High kurtosis means the data has a sharp peak with more outliers (extreme values).\n",
        "\n",
        "     Low kurtosis means the peak is flat and values are more spread out.\n",
        "     It helps us understand the shape of the data."
      ],
      "metadata": {
        "id": "GRvRWltT3tWu"
      }
    },
    {
      "cell_type": "markdown",
      "source": [
        "21. What is the purpose of covariance?\n",
        "    - Covariance tells us how two variables change together.\n",
        "\n",
        "      If both go up or both go down, covariance is positive.\n",
        "\n",
        "     If one goes up and the other goes down, it’s negative.\n",
        "     It helps in finding relationships between two things"
      ],
      "metadata": {
        "id": "S5CpEVV83tad"
      }
    },
    {
      "cell_type": "markdown",
      "source": [
        "22. What does correlation measure in statistics?\n",
        "    - Correlation shows how strong and in what direction two variables move together.\n",
        "     It gives a number between -1 and +1:\n",
        "\n",
        "     +1 means a strong positive relationship.\n",
        "\n",
        "     -1 means a strong negative relationship.\n",
        "\n",
        "     0 means no relationship.\n",
        "\n"
      ],
      "metadata": {
        "id": "8y9yCCBs3tdi"
      }
    },
    {
      "cell_type": "markdown",
      "source": [
        "23. What is the difference between covariance and correlation?\n",
        "\n",
        "    - Covariance tells if two variables move together, but the number can be hard to compare.\n",
        "\n",
        "     Correlation is more useful because it gives a clear number between -1 and +1 that shows strength and direction.\n",
        "\n"
      ],
      "metadata": {
        "id": "RsLjH50l3tgo"
      }
    },
    {
      "cell_type": "markdown",
      "source": [
        "24. What are some real-world applications of statistics?\n",
        "    - Statistics is used in many real-life areas like:\n",
        "\n",
        "     Business – to study sales and customers.\n",
        "\n",
        "     Medicine – to test new drugs.\n",
        "\n",
        "     Weather – to predict rain or temperature.\n",
        "\n",
        "     Sports – to track player performance.\n",
        "\n",
        "     Education – to check student results."
      ],
      "metadata": {
        "id": "HwFwr_FD3tju"
      }
    },
    {
      "cell_type": "markdown",
      "source": [
        "##Practical Questions"
      ],
      "metadata": {
        "id": "UYdEukg73tp4"
      }
    },
    {
      "cell_type": "code",
      "source": [
        "#1. How do you calculate the mean, median, and mode of a dataset?\n",
        "import numpy as np\n",
        "from scipy import stats\n",
        "\n",
        "data = [12, 15, 14, 10, 18, 20, 12]\n",
        "mean = np.mean(data)\n",
        "median = np.median(data)\n",
        "mode = stats.mode(data)\n",
        "\n",
        "print(\"Mean:\", mean)\n",
        "print(\"Median:\", median)\n",
        "print(\"Mode:\", mode)\n"
      ],
      "metadata": {
        "colab": {
          "base_uri": "https://localhost:8080/"
        },
        "id": "6Tr29_PN7VHN",
        "outputId": "e55a747d-223d-4b0b-ab9e-27f4a7075bb4"
      },
      "execution_count": 4,
      "outputs": [
        {
          "output_type": "stream",
          "name": "stdout",
          "text": [
            "Mean: 14.428571428571429\n",
            "Median: 14.0\n",
            "Mode: ModeResult(mode=np.int64(12), count=np.int64(2))\n"
          ]
        }
      ]
    },
    {
      "cell_type": "code",
      "source": [
        "#2 Write a Python program to compute the variance and standard deviation of a dataset?\n",
        "variance = np.var(data)\n",
        "std_dev = np.std(data)\n",
        "\n",
        "print(\"Variance:\", variance)\n",
        "print(\"Standard Deviation:\", std_dev)\n"
      ],
      "metadata": {
        "colab": {
          "base_uri": "https://localhost:8080/"
        },
        "id": "d_1ZrLAa7VJ6",
        "outputId": "efbe9bb8-c3d8-405b-8d8e-6874c9bdc166"
      },
      "execution_count": 5,
      "outputs": [
        {
          "output_type": "stream",
          "name": "stdout",
          "text": [
            "Variance: 10.816326530612244\n",
            "Standard Deviation: 3.2888184094918107\n"
          ]
        }
      ]
    },
    {
      "cell_type": "code",
      "source": [
        "#3. Create a dataset and classify it into nominal, ordinal, interval, and ratio types?\n",
        "dataset = {\n",
        "    \"Name\": [\"Alice\", \"Bob\", \"Charlie\"],\n",
        "    \"Education\": [\"High School\", \"Bachelor\", \"Master\"],\n",
        "    \"Temperature\": [98.6, 99.5, 97.2],\n",
        "    \"Height\": [160, 170, 180]\n",
        "}\n",
        "\n",
        "print(dataset[\"Name\"])\n",
        "print(dataset[\"Education\"])\n",
        "print(dataset[\"Temperature\"])\n",
        "print(dataset[\"Height\"])\n"
      ],
      "metadata": {
        "colab": {
          "base_uri": "https://localhost:8080/"
        },
        "id": "_bwXqR617VMx",
        "outputId": "3f5a1c05-0887-4a40-9153-e15da38c2d9b"
      },
      "execution_count": 8,
      "outputs": [
        {
          "output_type": "stream",
          "name": "stdout",
          "text": [
            "['Alice', 'Bob', 'Charlie']\n",
            "['High School', 'Bachelor', 'Master']\n",
            "[98.6, 99.5, 97.2]\n",
            "[160, 170, 180]\n"
          ]
        }
      ]
    },
    {
      "cell_type": "code",
      "source": [
        "#Q4. Implement sampling techniques like random sampling and stratified sampling.\n",
        "import pandas as pd\n",
        "from sklearn.model_selection import train_test_split\n",
        "\n",
        "df = pd.DataFrame({'Category': ['A', 'B', 'A', 'B', 'A', 'B'], 'Value': [1, 2, 3, 4, 5, 6]})\n",
        "random_sample = df.sample(n=3)\n",
        "strat_sample, _ = train_test_split(df, test_size=0.5, stratify=df['Category'])\n",
        "\n",
        "print(random_sample)\n",
        "print(strat_sample)\n"
      ],
      "metadata": {
        "colab": {
          "base_uri": "https://localhost:8080/"
        },
        "id": "H1TLuOg67VPe",
        "outputId": "fca9769d-ba15-4ee9-8feb-24906fb9cde2"
      },
      "execution_count": 9,
      "outputs": [
        {
          "output_type": "stream",
          "name": "stdout",
          "text": [
            "  Category  Value\n",
            "3        B      4\n",
            "0        A      1\n",
            "5        B      6\n",
            "  Category  Value\n",
            "5        B      6\n",
            "2        A      3\n",
            "4        A      5\n"
          ]
        }
      ]
    },
    {
      "cell_type": "code",
      "source": [
        "# Q5. Write a Python function to calculate the range of a dataset.\n",
        "def calculate_range(data):\n",
        "    return max(data) - min(data)\n",
        "\n",
        "data = [12, 15, 14, 10, 18, 20, 12]\n",
        "print(calculate_range(data))\n"
      ],
      "metadata": {
        "colab": {
          "base_uri": "https://localhost:8080/"
        },
        "id": "yyYyRZI47VST",
        "outputId": "7f433449-5b2e-43a3-ed3a-0aff93690ab6"
      },
      "execution_count": 10,
      "outputs": [
        {
          "output_type": "stream",
          "name": "stdout",
          "text": [
            "10\n"
          ]
        }
      ]
    },
    {
      "cell_type": "code",
      "source": [
        "#Q6. Create a dataset and plot its histogram to visualize skewness.\n",
        "import matplotlib.pyplot as plt\n",
        "\n",
        "data = [12, 15, 14, 10, 18, 20, 12, 22, 25, 30]\n",
        "plt.hist(data, bins=5)\n",
        "plt.show()\n",
        "\n",
        "\n"
      ],
      "metadata": {
        "colab": {
          "base_uri": "https://localhost:8080/",
          "height": 430
        },
        "id": "kUua4pmg7VVK",
        "outputId": "bf36ec56-09f8-4d00-f172-bf5b3ae6bd3c"
      },
      "execution_count": 17,
      "outputs": [
        {
          "output_type": "display_data",
          "data": {
            "text/plain": [
              "<Figure size 640x480 with 1 Axes>"
            ],
            "image/png": "[encoded data removed]"
          },
          "metadata": {}
        }
      ]
    },
    {
      "cell_type": "code",
      "source": [
        "#Q7. Calculate skewness and kurtosis of a dataset using Python libraries.\n",
        "from scipy.stats import skew, kurtosis\n",
        "\n",
        "data = [12, 15, 14, 10, 18, 20, 12, 22, 25, 30]\n",
        "print(skew(data))\n",
        "print(kurtosis(data))\n",
        "\n"
      ],
      "metadata": {
        "colab": {
          "base_uri": "https://localhost:8080/"
        },
        "id": "Ct_L2woB7VYP",
        "outputId": "fce4b094-3632-4cae-8523-916717aae1ba"
      },
      "execution_count": 18,
      "outputs": [
        {
          "output_type": "stream",
          "name": "stdout",
          "text": [
            "0.5834077146779665\n",
            "-0.7496205677498637\n"
          ]
        }
      ]
    },
    {
      "cell_type": "code",
      "source": [
        "#Q8. Generate a dataset and demonstrate positive and negative skewness.\n",
        "import numpy as np\n",
        "import seaborn as sns\n",
        "import matplotlib.pyplot as plt\n",
        "\n",
        "positive_skew = np.random.exponential(scale=2, size=1000)\n",
        "sns.histplot(positive_skew, kde=True)\n",
        "plt.show()\n",
        "\n",
        "negative_skew = -np.random.exponential(scale=2, size=1000)\n",
        "sns.histplot(negative_skew, kde=True)\n",
        "plt.show()\n",
        "\n"
      ],
      "metadata": {
        "colab": {
          "base_uri": "https://localhost:8080/",
          "height": 843
        },
        "id": "4LWIdIp97Vbc",
        "outputId": "d2e19c9d-9960-4636-842a-948b7bb51439"
      },
      "execution_count": 20,
      "outputs": [
        {
          "output_type": "display_data",
          "data": {
            "text/plain": [
              "<Figure size 640x480 with 1 Axes>"
            ],
            "image/png": "[encoded data removed]"
          },
          "metadata": {}
        },
        {
          "output_type": "display_data",
          "data": {
            "text/plain": [
              "<Figure size 640x480 with 1 Axes>"
            ],
            "image/png": "[encoded data removed]"
          },
          "metadata": {}
        }
      ]
    },
    {
      "cell_type": "code",
      "source": [
        "#Q9. Write a Python script to calculate covariance between two datasets.\n",
        "import numpy as np\n",
        "\n",
        "x = [1, 2, 3, 4, 5]\n",
        "y = [2, 4, 6, 8, 10]\n",
        "covariance = np.cov(x, y)[0][1]\n",
        "print(covariance)\n"
      ],
      "metadata": {
        "colab": {
          "base_uri": "https://localhost:8080/"
        },
        "id": "SfSLfGe-7VeT",
        "outputId": "987ea667-1f8a-406a-fed9-6ef66e446762"
      },
      "execution_count": 21,
      "outputs": [
        {
          "output_type": "stream",
          "name": "stdout",
          "text": [
            "5.0\n"
          ]
        }
      ]
    },
    {
      "cell_type": "code",
      "source": [
        "#Q10. Write a Python script to calculate the correlation coefficient between two datasets.\n",
        "import numpy as np\n",
        "\n",
        "x = [1, 2, 3, 4, 5]\n",
        "y = [2, 4, 6, 8, 10]\n",
        "correlation = np.corrcoef(x, y)[0][1]\n",
        "print(correlation)\n",
        "\n",
        "\n"
      ],
      "metadata": {
        "colab": {
          "base_uri": "https://localhost:8080/"
        },
        "id": "vSjUSKI17VhJ",
        "outputId": "77cb9f81-55fa-46b1-bc17-3a79c0198e9b"
      },
      "execution_count": 22,
      "outputs": [
        {
          "output_type": "stream",
          "name": "stdout",
          "text": [
            "0.9999999999999999\n"
          ]
        }
      ]
    },
    {
      "cell_type": "code",
      "source": [
        "#Q11. Create a scatter plot to visualize the relationship between two variables.\n",
        "import matplotlib.pyplot as plt\n",
        "\n",
        "x = [1, 2, 3, 4, 5]\n",
        "y = [2, 4, 6, 8, 10]\n",
        "plt.scatter(x, y)\n",
        "plt.show()\n",
        "\n"
      ],
      "metadata": {
        "colab": {
          "base_uri": "https://localhost:8080/",
          "height": 430
        },
        "id": "SRckP3aW7TIE",
        "outputId": "30662d9e-5ff7-42d1-96bb-11a9b133d753"
      },
      "execution_count": 23,
      "outputs": [
        {
          "output_type": "display_data",
          "data": {
            "text/plain": [
              "<Figure size 640x480 with 1 Axes>"
            ],
            "image/png": "[encoded data removed]"
          },
          "metadata": {}
        }
      ]
    },
    {
      "cell_type": "code",
      "source": [
        "#Q12. Implement and compare simple random sampling and systematic sampling.\n",
        "import pandas as pd\n",
        "\n",
        "df = pd.DataFrame({'Value': range(1, 11)})\n",
        "simple_sample = df.sample(n=4)\n",
        "systematic_sample = df.iloc[::2]\n",
        "\n",
        "print(simple_sample)\n",
        "print(systematic_sample)\n"
      ],
      "metadata": {
        "colab": {
          "base_uri": "https://localhost:8080/"
        },
        "id": "HJivfDX77TKy",
        "outputId": "695684ff-d7c9-483f-db69-3cd0691b78ca"
      },
      "execution_count": 24,
      "outputs": [
        {
          "output_type": "stream",
          "name": "stdout",
          "text": [
            "   Value\n",
            "3      4\n",
            "8      9\n",
            "5      6\n",
            "4      5\n",
            "   Value\n",
            "0      1\n",
            "2      3\n",
            "4      5\n",
            "6      7\n",
            "8      9\n"
          ]
        }
      ]
    },
    {
      "cell_type": "code",
      "source": [
        "#Q13. Calculate the mean, median, and mode of grouped data.\n",
        "import pandas as pd\n",
        "import numpy as np\n",
        "from scipy import stats\n",
        "\n",
        "data = {\n",
        "    'class_mid': [10, 20, 30, 40],\n",
        "    'frequency': [5, 8, 10, 7]\n",
        "}\n",
        "df = pd.DataFrame(data)\n",
        "mean = sum(df['class_mid'] * df['frequency']) / sum(df['frequency'])\n",
        "grouped_data = []\n",
        "for i in range(len(df)):\n",
        "    grouped_data.extend([df['class_mid'][i]] * df['frequency'][i])\n",
        "median = np.median(grouped_data)\n",
        "mode = stats.mode(grouped_data)\n",
        "\n",
        "print(mean)\n",
        "print(median)\n",
        "print(mode)\n"
      ],
      "metadata": {
        "colab": {
          "base_uri": "https://localhost:8080/"
        },
        "id": "R6I5Dirx7TNx",
        "outputId": "3248d861-e90e-4596-a832-6fe8a8152c1d"
      },
      "execution_count": 26,
      "outputs": [
        {
          "output_type": "stream",
          "name": "stdout",
          "text": [
            "26.333333333333332\n",
            "30.0\n",
            "ModeResult(mode=np.int64(30), count=np.int64(10))\n"
          ]
        }
      ]
    },
    {
      "cell_type": "code",
      "source": [
        "# Q14. Simulate data using Python and calculate its central tendency and dispersion.\n",
        "import numpy as np\n",
        "\n",
        "data = np.random.normal(loc=50, scale=10, size=1000)\n",
        "print(np.mean(data))\n",
        "print(np.median(data))\n",
        "print(np.std(data))\n",
        "\n"
      ],
      "metadata": {
        "colab": {
          "base_uri": "https://localhost:8080/"
        },
        "id": "1FH5CiDM7TQl",
        "outputId": "b76bcc51-7610-4d2f-82f2-5cde32fc1b21"
      },
      "execution_count": 27,
      "outputs": [
        {
          "output_type": "stream",
          "name": "stdout",
          "text": [
            "50.0991790006277\n",
            "49.96899462053886\n",
            "9.736053270918067\n"
          ]
        }
      ]
    },
    {
      "cell_type": "code",
      "source": [
        "#15. Use NumPy or pandas to summarize a dataset’s descriptive statistics.\n",
        "import pandas as pd\n",
        "\n",
        "# Sample dataset\n",
        "data = {'Math': [45, 78, 56, 89, 76, 90, 67]}\n",
        "df = pd.DataFrame(data)\n",
        "\n",
        "# Descriptive statistics\n",
        "print(df.describe())\n"
      ],
      "metadata": {
        "colab": {
          "base_uri": "https://localhost:8080/"
        },
        "id": "SYg_JJyM7TS-",
        "outputId": "57887681-7ed8-4fb3-b044-d0b71e212417"
      },
      "execution_count": 28,
      "outputs": [
        {
          "output_type": "stream",
          "name": "stdout",
          "text": [
            "            Math\n",
            "count   7.000000\n",
            "mean   71.571429\n",
            "std    16.701868\n",
            "min    45.000000\n",
            "25%    61.500000\n",
            "50%    76.000000\n",
            "75%    83.500000\n",
            "max    90.000000\n"
          ]
        }
      ]
    },
    {
      "cell_type": "code",
      "source": [
        "#16. Plot a boxplot to understand the spread and identify outliers.\n",
        "import matplotlib.pyplot as plt\n",
        "\n",
        "plt.boxplot(df['Math'])\n",
        "plt.title('Boxplot of Math Scores')\n",
        "plt.ylabel('Scores')\n",
        "plt.show()\n"
      ],
      "metadata": {
        "colab": {
          "base_uri": "https://localhost:8080/",
          "height": 452
        },
        "id": "obyBDeWF7TV9",
        "outputId": "c0f785e3-8db9-4070-ce24-dc3bb0dce142"
      },
      "execution_count": 29,
      "outputs": [
        {
          "output_type": "display_data",
          "data": {
            "text/plain": [
              "<Figure size 640x480 with 1 Axes>"
            ],
            "image/png": "[encoded data removed]"
          },
          "metadata": {}
        }
      ]
    },
    {
      "cell_type": "code",
      "source": [
        "#17. Calculate the interquartile range (IQR) of a dataset.\n",
        "import numpy as np\n",
        "\n",
        "q1 = np.percentile(df['Math'], 25)\n",
        "q3 = np.percentile(df['Math'], 75)\n",
        "iqr = q3 - q1\n",
        "print(iqr)"
      ],
      "metadata": {
        "colab": {
          "base_uri": "https://localhost:8080/"
        },
        "id": "drqJzNDu7TY0",
        "outputId": "c3dc5067-09e6-4140-c520-67afdde90c66"
      },
      "execution_count": 30,
      "outputs": [
        {
          "output_type": "stream",
          "name": "stdout",
          "text": [
            "22.0\n"
          ]
        }
      ]
    },
    {
      "cell_type": "code",
      "source": [
        "#18. Implement Z-score normalization and explain its significance.\n",
        "from scipy.stats import zscore\n",
        "\n",
        "df['Z_score'] = zscore(df['Math'])\n",
        "print(df)\n"
      ],
      "metadata": {
        "colab": {
          "base_uri": "https://localhost:8080/"
        },
        "id": "DaGbdyCl7Tbg",
        "outputId": "fcdb54ff-3651-4e3e-ecab-f287cd932a6a"
      },
      "execution_count": 31,
      "outputs": [
        {
          "output_type": "stream",
          "name": "stdout",
          "text": [
            "   Math   Z_score\n",
            "0    45 -1.718396\n",
            "1    78  0.415741\n",
            "2    56 -1.007017\n",
            "3    89  1.127120\n",
            "4    76  0.286399\n",
            "5    90  1.191791\n",
            "6    67 -0.295638\n"
          ]
        }
      ]
    },
    {
      "cell_type": "code",
      "source": [
        "#19. Compare two datasets using their standard deviations.\n",
        "data2 = {'Science': [40, 80, 55, 70, 60, 75, 65]}\n",
        "df2 = pd.DataFrame(data2)\n",
        "\n",
        "std_math = df['Math'].std()\n",
        "std_science = df2['Science'].std()\n",
        "print(\"Std Dev of Math:\", std_math)\n",
        "print(\"Std Dev of Science:\", std_science)\n",
        "\n"
      ],
      "metadata": {
        "colab": {
          "base_uri": "https://localhost:8080/"
        },
        "id": "Zdi5q4LzNdiS",
        "outputId": "26d664e7-8418-43a5-9d30-4d4fb21c3180"
      },
      "execution_count": 32,
      "outputs": [
        {
          "output_type": "stream",
          "name": "stdout",
          "text": [
            "Std Dev of Math: 16.70186758875728\n",
            "Std Dev of Science: 13.451854182690985\n"
          ]
        }
      ]
    },
    {
      "cell_type": "code",
      "source": [
        "#20. Write a Python program to visualize covariance using a heatmap.\n",
        "df_combined = pd.concat([df['Math'], df2['Science']], axis=1)\n",
        "cov_matrix = df_combined.cov()\n",
        "\n",
        "import seaborn as sns\n",
        "\n",
        "sns.heatmap(cov_matrix, annot=True)\n",
        "plt.title(\"Covariance Heatmap\")\n",
        "plt.show()\n"
      ],
      "metadata": {
        "colab": {
          "base_uri": "https://localhost:8080/",
          "height": 452
        },
        "id": "szwda5h3Ndo3",
        "outputId": "c93cf15d-d4f0-4d23-c129-4db9e78a5ab8"
      },
      "execution_count": 33,
      "outputs": [
        {
          "output_type": "display_data",
          "data": {
            "text/plain": [
              "<Figure size 640x480 with 2 Axes>"
            ],
            "image/png": "[encoded data removed]"
          },
          "metadata": {}
        }
      ]
    },
    {
      "cell_type": "code",
      "source": [
        "#21. Use seaborn to create a correlation matrix for a dataset.\n",
        "corr_matrix = df_combined.corr()\n",
        "\n",
        "sns.heatmap(corr_matrix, annot=True, cmap='coolwarm')\n",
        "plt.title(\"Correlation Matrix\")\n",
        "plt.show()\n",
        "\n"
      ],
      "metadata": {
        "colab": {
          "base_uri": "https://localhost:8080/",
          "height": 452
        },
        "id": "jwRmg1zzNdr1",
        "outputId": "98030d5e-0ea2-4d21-952e-5819a4e6c2ea"
      },
      "execution_count": 34,
      "outputs": [
        {
          "output_type": "display_data",
          "data": {
            "text/plain": [
              "<Figure size 640x480 with 2 Axes>"
            ],
            "image/png": "[encoded data removed]"
          },
          "metadata": {}
        }
      ]
    },
    {
      "cell_type": "code",
      "source": [
        "#22. Generate a dataset and implement both variance and standard deviation computations.\n",
        "import numpy as np\n",
        "\n",
        "dataset = np.array([10, 20, 30, 40, 50])\n",
        "\n",
        "variance = np.var(dataset)\n",
        "std_dev = np.std(dataset)\n",
        "\n",
        "print(\"Variance:\", variance)\n",
        "print(\"Standard Deviation:\", std_dev)\n",
        "\n"
      ],
      "metadata": {
        "colab": {
          "base_uri": "https://localhost:8080/"
        },
        "id": "EIE9L2Z8Ndui",
        "outputId": "46a339f6-6a51-4c65-9a56-54a4ecf41c70"
      },
      "execution_count": 35,
      "outputs": [
        {
          "output_type": "stream",
          "name": "stdout",
          "text": [
            "Variance: 200.0\n",
            "Standard Deviation: 14.142135623730951\n"
          ]
        }
      ]
    },
    {
      "cell_type": "code",
      "source": [
        "#23. Visualize skewness and kurtosis using Python libraries like matplotlib or seaborn.\n",
        "from scipy.stats import skew, kurtosis\n",
        "\n",
        "values = df['Math']\n",
        "print(\"Skewness:\", skew(values))\n",
        "print(\"Kurtosis:\", kurtosis(values))\n",
        "\n",
        "sns.histplot(values, kde=True)\n",
        "plt.title(\"Skewness and Kurtosis Visualization\")\n",
        "plt.show()\n"
      ],
      "metadata": {
        "colab": {
          "base_uri": "https://localhost:8080/",
          "height": 507
        },
        "id": "zuVmkpjINdw3",
        "outputId": "cce89a42-94c8-4461-bdd1-b727bacdd343"
      },
      "execution_count": 36,
      "outputs": [
        {
          "output_type": "stream",
          "name": "stdout",
          "text": [
            "Skewness: -0.41446352089571603\n",
            "Kurtosis: -1.0823588848683674\n"
          ]
        },
        {
          "output_type": "display_data",
          "data": {
            "text/plain": [
              "<Figure size 640x480 with 1 Axes>"
            ],
            "image/png": "[encoded data removed]"
          },
          "metadata": {}
        }
      ]
    },
    {
      "cell_type": "code",
      "source": [
        "#24. Implement the Pearson and Spearman correlation coefficients for a dataset.\n",
        "from scipy.stats import pearsonr, spearmanr\n",
        "\n",
        "pearson_corr, _ = pearsonr(df['Math'], df2['Science'])\n",
        "spearman_corr, _ = spearmanr(df['Math'], df2['Science'])\n",
        "\n",
        "print(\"Pearson Correlation:\", pearson_corr)\n",
        "print(\"Spearman Correlation:\", spearman_corr)\n"
      ],
      "metadata": {
        "colab": {
          "base_uri": "https://localhost:8080/"
        },
        "id": "xqs6T55R7TeH",
        "outputId": "d8e8c025-3152-4fb5-c602-cf382ec2b417"
      },
      "execution_count": 37,
      "outputs": [
        {
          "output_type": "stream",
          "name": "stdout",
          "text": [
            "Pearson Correlation: 0.8647561933720453\n",
            "Spearman Correlation: 0.8571428571428573\n"
          ]
        }
      ]
    }
  ]
}